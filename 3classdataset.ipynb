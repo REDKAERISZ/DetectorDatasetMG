{
 "cells": [
  {
   "cell_type": "markdown",
   "metadata": {},
   "source": [
    "# 3 Class image dataset of mammography with abnormalities for YOLONAS based detection models"
   ]
  },
  {
   "cell_type": "markdown",
   "metadata": {},
   "source": [
    "The following notebook contains the code necessary for: \n",
    "* Rescaling the images to 1080 x 1080 pixels without distortion by completing the longest side with zeros\n",
    "* Computing the Region Of Interest coordinates for the new size\n",
    "* Generating a training dataset with labels and normalized coordinates in .txt format [label centerx centery width height].\n",
    "\n",
    "The abnormality classes adressed in this experiment are: 1 Architectural distortion, 2 Mass and 3 Calcification\n",
    "\n",
    "The public datasets used are: \n",
    "\n",
    "* MIAS\n",
    "* CBIS-DDSM\n",
    "* CDD-CESM\n",
    "* INbreast\n",
    "* BMCD\n",
    "* VinDr\n",
    "\n",
    "To which I'll provide a link to their respective documentation within the README.md. I will also provide in this repository the .xlsx file containing the coordinates to every ROI. There are 5191 images and 6678 abnormalities in total. \n",
    "\n",
    "Don't forget to modify the image paths in the 'AbsPath' column according to your own storage."
   ]
  },
  {
   "cell_type": "code",
   "execution_count": null,
   "metadata": {},
   "outputs": [],
   "source": [
    "import cupy as cp \n",
    "from utils import *\n",
    "import os\n",
    "from processing import *\n",
    "import torch\n",
    "# import tqdm"
   ]
  },
  {
   "cell_type": "code",
   "execution_count": null,
   "metadata": {},
   "outputs": [],
   "source": [
    "this_device = 'cuda' if torch.cuda.is_available() else 'cpu'\n",
    "this_device"
   ]
  },
  {
   "cell_type": "markdown",
   "metadata": {},
   "source": [
    "### For generating the excel file with the most relevant information about the images\n",
    "\n",
    "This code computes the necessary data to obtain both COCO and YOLO format labels"
   ]
  },
  {
   "cell_type": "code",
   "execution_count": null,
   "metadata": {},
   "outputs": [],
   "source": [
    "excel_file = '..\\\\DetectorDatasetMG\\\\Templatedetfile.xlsx'\n"
   ]
  },
  {
   "cell_type": "code",
   "execution_count": null,
   "metadata": {},
   "outputs": [],
   "source": [
    "df = assign_image_number(excel_file)\n",
    "df = assign_labels_and_names (df, excel_file)\n",
    "assign_finding_index(df, excel_file)\n",
    "assign_dl_folder(excel_file, ratio=(0.7,0.2,0.1))\n",
    "resized_normalized_coordinates(excel_file)"
   ]
  },
  {
   "cell_type": "markdown",
   "metadata": {},
   "source": [
    "Now the Excel file contains all the needed information to generate the dataset. Please review the comments on utils.py and processing.py for further information"
   ]
  },
  {
   "cell_type": "markdown",
   "metadata": {},
   "source": [
    "#### Run this version below if you don't have a GPU. It will take very long to process"
   ]
  },
  {
   "cell_type": "markdown",
   "metadata": {},
   "source": [
    "The result is a dataset of normalized and denoised mammography images for better model performance"
   ]
  },
  {
   "cell_type": "code",
   "execution_count": null,
   "metadata": {},
   "outputs": [],
   "source": [
    "def dataset_for_detector (file, root):\n",
    "    df = pd.read_excel(file)\n",
    "    \n",
    "    # Define data\n",
    "    for i, row in df.iterrows():\n",
    "        \n",
    "        if row['AbsPath'].endswith('.dcm') or row['AbsPath'].endswith ('.dicom') or row['AbsPath'].endswith('.DCM'): \n",
    "            image = dicom_preprocessing(row['AbsPath'], row['pixy'], row['pixx'])\n",
    "            \n",
    "        else:\n",
    "            image = cv2.imread(row['AbsPath'])\n",
    "            image = cv2.normalize(image.astype(float), None, 0, 255, cv2.NORM_MINMAX).astype(np.uint8)\n",
    "        \n",
    "        image = reduce_poisson_noise(image)\n",
    "        \n",
    "        squared = add_zeros_for_square(image, row['pixy'], row['pixx'])\n",
    "        det_size = (1080, 1080)\n",
    "        resized_squared = cv2.resize(squared, det_size, interpolation=cv2.INTER_LINEAR)\n",
    "        \n",
    "        # Build storing path\n",
    "        dest_folder = os.path.join(root, row['set'],'images')\n",
    "        if not os.path.exists(dest_folder):\n",
    "            os.makedirs(dest_folder)\n",
    "            \n",
    "        # Save the images\n",
    "        image_name = f\"{row['ImageName']}_{row['Index']}.png\"\n",
    "        image_path = os.path.join(dest_folder, image_name)\n",
    "        cv2.imwrite(image_path, resized_squared)\n",
    "        \n",
    "        # Write label information to text file\n",
    "        label_folder = os.path.join(root, row['set'], 'labels')\n",
    "        if not os.path.exists(label_folder):\n",
    "            os.makedirs(label_folder)\n",
    "            \n",
    "        \n",
    "        label_file_path = os.path.join(label_folder, f\"{row['ImageName']}_{row['Index']}.txt\")\n",
    "        with open(label_file_path, 'w') as f:\n",
    "            f.write(f\"{row['Label']} {row['cx']} {row['cy']} {row['nw']} {row['nh']}\")\n",
    "            \n",
    "        print (row['id'])\n"
   ]
  },
  {
   "cell_type": "code",
   "execution_count": null,
   "metadata": {},
   "outputs": [],
   "source": [
    "dataset_for_detector(file= \"C:/Users/sandra/Downloads/yaporfavor.xlsx\", root=\"F:/Bases/Cancer/Mama/Mamografias/BRAHMA_DETECCION/Ver_14062024_NORM\")"
   ]
  },
  {
   "cell_type": "markdown",
   "metadata": {},
   "source": [
    "### Run this version below if you have a GPU"
   ]
  },
  {
   "cell_type": "code",
   "execution_count": null,
   "metadata": {},
   "outputs": [],
   "source": [
    "#This is still under construction"
   ]
  }
 ],
 "metadata": {
  "kernelspec": {
   "display_name": "cupy_env",
   "language": "python",
   "name": "python3"
  },
  "language_info": {
   "codemirror_mode": {
    "name": "ipython",
    "version": 3
   },
   "file_extension": ".py",
   "mimetype": "text/x-python",
   "name": "python",
   "nbconvert_exporter": "python",
   "pygments_lexer": "ipython3",
   "version": "3.8.19"
  }
 },
 "nbformat": 4,
 "nbformat_minor": 2
}
