{
 "cells": [
  {
   "cell_type": "markdown",
   "metadata": {},
   "source": [
    "## This small notebook is mainly just testing"
   ]
  },
  {
   "cell_type": "code",
   "execution_count": null,
   "metadata": {},
   "outputs": [],
   "source": [
    "import matplotlib.pyplot as plt\n",
    "from utils import *\n",
    "from pydicom import dcmread\n",
    "from skimage.transform import resize\n",
    "from processing import *"
   ]
  },
  {
   "cell_type": "code",
   "execution_count": null,
   "metadata": {},
   "outputs": [],
   "source": [
    "image_path = \" \" # Put the path to a mammography image here, either DICOM, PNG or JPG"
   ]
  },
  {
   "cell_type": "code",
   "execution_count": null,
   "metadata": {},
   "outputs": [],
   "source": [
    "def read_dicom_mg(image_path):\n",
    "    dcm = pydicom.dcmread(image_path)\n",
    "    pixel_array = dcm.pixel_array\n",
    "    normalized_array = pixel_array.astype(np.float32) / pixel_array.max()\n",
    "\n",
    "    return normalized_array"
   ]
  },
  {
   "cell_type": "code",
   "execution_count": null,
   "metadata": {},
   "outputs": [],
   "source": [
    "if image_path.lower().endswith(('.dcm', '.dicom', '.dcm')):\n",
    "    original_image = read_dicom_mg(image_path)\n",
    "    normalized_image = dicom_preprocessing(image_path, 2812, 2012)\n",
    "else:\n",
    "    original_image = cv2.imread(image_path)\n",
    "    normalized_image = cv2.normalize(original_image.astype(float), None, 0, 255, cv2.NORM_MINMAX).astype(np.uint8)\n",
    "\n",
    "denoised_image = reduce_poisson_noise(normalized_image)\n",
    "\n",
    "# Plot the images\n",
    "titles = ['Original Image', 'Normalized Image', 'Denoised Image']\n",
    "images = [original_image, normalized_image, denoised_image]\n",
    "\n",
    "plt.figure(figsize=(15, 5))\n",
    "for i in range(3):\n",
    "    plt.subplot(1, 3, i + 1)\n",
    "    plt.title(titles[i])\n",
    "    if images[i].ndim == 2:\n",
    "        plt.imshow(images[i], cmap='gray')\n",
    "    else:\n",
    "        plt.imshow(cv2.cvtColor(images[i], cv2.COLOR_BGR2RGB))\n",
    "    plt.axis('off')\n",
    "\n",
    "plt.tight_layout()\n",
    "plt.show()"
   ]
  }
 ],
 "metadata": {
  "kernelspec": {
   "display_name": "cupy_env",
   "language": "python",
   "name": "python3"
  },
  "language_info": {
   "codemirror_mode": {
    "name": "ipython",
    "version": 3
   },
   "file_extension": ".py",
   "mimetype": "text/x-python",
   "name": "python",
   "nbconvert_exporter": "python",
   "pygments_lexer": "ipython3",
   "version": "3.8.19"
  }
 },
 "nbformat": 4,
 "nbformat_minor": 2
}
